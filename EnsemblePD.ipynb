{
 "cells": [
  {
   "cell_type": "code",
   "execution_count": 1,
   "metadata": {},
   "outputs": [],
   "source": [
    "import numpy as np\n",
    "import h5py\n",
    "from sklearn.metrics import accuracy_score"
   ]
  },
  {
   "cell_type": "code",
   "execution_count": 1,
   "metadata": {},
   "outputs": [],
   "source": [
    "def load_PD():\n",
    "    with h5py.File('Parkinson-Augmented.h5', 'r') as hdf:\n",
    "\n",
    "        G1 = hdf.get('Train Data')\n",
    "        trainX = np.array(G1.get('x_train'))\n",
    "        trainY = np.array(G1.get('y_train'))\n",
    "        G2 = hdf.get('Test Data')\n",
    "        testX = np.array(G2.get('x_test'))\n",
    "        testY = np.array(G2.get('y_test'))\n",
    "\n",
    "        return trainX, trainY, testX, testY"
   ]
  },
  {
   "cell_type": "code",
   "execution_count": 3,
   "metadata": {},
   "outputs": [
    {
     "name": "stdout",
     "output_type": "stream",
     "text": [
      "(6314, 128, 128, 1) (6314,) (2706, 128, 128, 1) (2706,)\n"
     ]
    }
   ],
   "source": [
    "x_train, y_train, x_test, y_test = load_PD()\n",
    "print(x_train.shape, y_train.shape, x_test.shape,y_test.shape)\n"
   ]
  },
  {
   "cell_type": "code",
   "execution_count": 4,
   "metadata": {},
   "outputs": [
    {
     "name": "stdout",
     "output_type": "stream",
     "text": [
      "x_train shape: (6314, 128, 128, 3)\n"
     ]
    }
   ],
   "source": [
    "#make it ready for VGG16\n",
    "x_train = np.repeat(x_train, 3, axis=3)\n",
    "x_test = np.repeat(x_test, 3, axis=3)\n",
    "print('x_train shape:', x_train.shape)"
   ]
  },
  {
   "cell_type": "code",
   "execution_count": 5,
   "metadata": {},
   "outputs": [],
   "source": [
    "from tensorflow.keras.applications.vgg16 import VGG16\n",
    "VGG_model = VGG16(weights='imagenet', include_top=False, input_shape=(128, 128, 3))\n",
    "# Make loaded layers as non-trainable. This is important as we want to work with pre-trained weights\n",
    "for layer in VGG_model.layers:\n",
    "    layer.trainable = False\n",
    "#VGG_model.summary()  # Trainable parameters will be 0"
   ]
  },
  {
   "cell_type": "code",
   "execution_count": 6,
   "metadata": {},
   "outputs": [
    {
     "name": "stdout",
     "output_type": "stream",
     "text": [
      "extracting VGG16 features\n",
      "reshaping features\n",
      "(2706, 8192)\n",
      "(6314, 8192)\n"
     ]
    }
   ],
   "source": [
    "# Now, let us use features from convolutional network for KNN\n",
    "print(\"extracting VGG16 features\")\n",
    "feature_extractor=VGG_model.predict(x_train)\n",
    "print(\"reshaping features\")\n",
    "features = feature_extractor.reshape(feature_extractor.shape[0], -1)\n",
    "# print(feature_extractor.shape)\n",
    "# print(features.shape)\n",
    "X_Train = features #This is our X input to Logistic Regression.\n",
    "#Send test data through same feature extractor process\n",
    "X_test_feature = VGG_model.predict(x_test)\n",
    "X_Test = X_test_feature.reshape(X_test_feature.shape[0], -1)\n",
    "print(X_Test.shape)\n",
    "print(X_Train.shape)"
   ]
  },
  {
   "cell_type": "code",
   "execution_count": 7,
   "metadata": {},
   "outputs": [
    {
     "name": "stdout",
     "output_type": "stream",
     "text": [
      "model-1:KNN\n",
      "Train the model on training data\n",
      "predicting\n",
      "KNN accuracy: 0.9933481152993349\n"
     ]
    }
   ],
   "source": [
    "print(\"model-1:KNN\")\n",
    "from sklearn.neighbors import KNeighborsClassifier\n",
    "model1_KNN = KNeighborsClassifier(n_neighbors = 15, metric = 'minkowski', p = 2)\n",
    "\n",
    "print('Train the model on training data')\n",
    "model1_KNN.fit(X_Train, y_train) # For sklearn no one hot encoding\n",
    "\n",
    "print(\"predicting\")\n",
    "# Now predict using the trained RF model.\n",
    "prediction1 = model1_KNN.predict(X_Test)\n",
    "print('KNN accuracy:', accuracy_score(y_test, prediction1))"
   ]
  },
  {
   "cell_type": "code",
   "execution_count": 8,
   "metadata": {},
   "outputs": [
    {
     "name": "stdout",
     "output_type": "stream",
     "text": [
      "model-2\n",
      "Train the model on training data\n",
      "predicting\n",
      "SVM accuracy: 0.9988913525498891\n"
     ]
    }
   ],
   "source": [
    "print('model-2')\n",
    "from sklearn import svm\n",
    "model2_SVM = svm.SVC(kernel='linear',C=1, probability=True, random_state=42)\n",
    "print('Train the model on training data')\n",
    "model2_SVM.fit(X_Train,y_train)\n",
    "\n",
    "print('predicting')\n",
    "prediction2 = model2_SVM.predict(X_Test)\n",
    "print('SVM accuracy:', accuracy_score(y_test, prediction2))"
   ]
  },
  {
   "cell_type": "code",
   "execution_count": 9,
   "metadata": {},
   "outputs": [
    {
     "name": "stdout",
     "output_type": "stream",
     "text": [
      "Ensemble Accuracy: 0.999630450849963\n"
     ]
    }
   ],
   "source": [
    "from sklearn.ensemble import VotingClassifier\n",
    "model = VotingClassifier(estimators=[('svm',model2_SVM),('knn',model1_KNN)], voting='soft')\n",
    "model = model.fit(X_Train, y_train)\n",
    "\n",
    "prediction = model.predict(X_Test)\n",
    "print('Ensemble Accuracy:', accuracy_score(y_test,prediction))"
   ]
  },
  {
   "cell_type": "code",
   "execution_count": 19,
   "metadata": {},
   "outputs": [
    {
     "name": "stdout",
     "output_type": "stream",
     "text": [
      "Specificity or TNR 0.9996105919003115\n",
      "Sensitivity or TPR or Recall 0.9996105919003115\n",
      "FNR  0.0003894080996884597\n",
      "FPR 0.0003894080996884597\n",
      "Accuracy =  0.999630450849963\n"
     ]
    }
   ],
   "source": [
    "#TODO: \n",
    "#the code for specificity, sensitivity, FPR, etc. \n",
    "from sklearn.metrics import multilabel_confusion_matrix\n",
    "from sklearn import metrics\n",
    "mcm = multilabel_confusion_matrix(y_true=y_test, y_pred=prediction, labels=[0,1], samplewise=False)\n",
    "tn = mcm[:,0,0]\n",
    "tp = mcm[:,1,1]\n",
    "fp = mcm[:,0,1]\n",
    "fn = mcm[:,1,0]\n",
    "specificity = tn/(tn+fp)\n",
    "print(\"Specificity or TNR\",np.mean(specificity))\n",
    "\n",
    "sensitivity = tp/(tp+fn)\n",
    "print(\"Sensitivity or TPR or Recall\",np.mean(sensitivity))\n",
    "\n",
    "print(\"FNR \", 1-np.mean(sensitivity))\n",
    "\n",
    "print(\"FPR\", 1-np.mean(specificity))\n",
    "\n",
    "print(\"Accuracy = \", metrics.accuracy_score(y_test, prediction))\n",
    "# Confusion matrix\n",
    "#FIXME:"
   ]
  },
  {
   "cell_type": "code",
   "execution_count": 26,
   "metadata": {},
   "outputs": [
    {
     "data": {
      "image/png": "[encoded data removed]",
      "text/plain": [
       "<Figure size 300x300 with 1 Axes>"
      ]
     },
     "metadata": {},
     "output_type": "display_data"
    }
   ],
   "source": [
    "from sklearn.metrics import confusion_matrix\n",
    "import seaborn as sns\n",
    "cf_matrix = confusion_matrix(y_test, prediction)\n",
    "import matplotlib.pyplot as plt\n",
    "fig = plt.figure(figsize=(3, 3))\n",
    "ax= plt.subplot()\n",
    "sns.heatmap(cf_matrix, annot=True, cmap=sns.cubehelix_palette(as_cmap=True), cbar=False, linewidth=0.5,linecolor=\"black\",fmt='')\n",
    "ax.set_xlabel('Predicted Label', fontsize=12)\n",
    "ax.set_ylabel('True Label', fontsize=12)\n",
    "plt.savefig(\"CM_ensemble-PD.pdf\")"
   ]
  },
  {
   "cell_type": "code",
   "execution_count": 27,
   "metadata": {},
   "outputs": [
    {
     "data": {
      "image/png": "[encoded data removed]",
      "text/plain": [
       "<Figure size 300x300 with 1 Axes>"
      ]
     },
     "metadata": {},
     "output_type": "display_data"
    }
   ],
   "source": [
    "from sklearn.metrics import confusion_matrix\n",
    "import seaborn as sns\n",
    "cf_matrix = confusion_matrix(y_test, prediction1)\n",
    "import matplotlib.pyplot as plt\n",
    "fig = plt.figure(figsize=(3, 3))\n",
    "ax= plt.subplot()\n",
    "sns.heatmap(cf_matrix, annot=True, cmap='Blues', cbar=False, linewidth=0.5,linecolor=\"black\",fmt='')\n",
    "ax.set_xlabel('Predicted Label', fontsize=12)\n",
    "ax.set_ylabel('True Label', fontsize=12)\n",
    "plt.savefig(\"CM_KNN-PD.pdf\")"
   ]
  },
  {
   "cell_type": "code",
   "execution_count": 28,
   "metadata": {},
   "outputs": [
    {
     "data": {
      "image/png": "[encoded data removed]",
      "text/plain": [
       "<Figure size 300x300 with 1 Axes>"
      ]
     },
     "metadata": {},
     "output_type": "display_data"
    }
   ],
   "source": [
    "from sklearn.metrics import confusion_matrix\n",
    "import seaborn as sns\n",
    "cf_matrix = confusion_matrix(y_test, prediction2)\n",
    "import matplotlib.pyplot as plt\n",
    "fig = plt.figure(figsize=(3, 3))\n",
    "ax= plt.subplot()\n",
    "sns.heatmap(cf_matrix, annot=True, cmap='Blues', cbar=False, linewidth=0.5,linecolor=\"black\",fmt='')\n",
    "ax.set_xlabel('Predicted Label', fontsize=12)\n",
    "ax.set_ylabel('True Label', fontsize=12)\n",
    "plt.savefig(\"CM_SVM-PD.pdf\")"
   ]
  }
 ],
 "metadata": {
  "kernelspec": {
   "display_name": "tf2.5",
   "language": "python",
   "name": "python3"
  },
  "language_info": {
   "codemirror_mode": {
    "name": "ipython",
    "version": 3
   },
   "file_extension": ".py",
   "mimetype": "text/x-python",
   "name": "python",
   "nbconvert_exporter": "python",
   "pygments_lexer": "ipython3",
   "version": "3.8.0"
  },
  "orig_nbformat": 4
 },
 "nbformat": 4,
 "nbformat_minor": 2
}
